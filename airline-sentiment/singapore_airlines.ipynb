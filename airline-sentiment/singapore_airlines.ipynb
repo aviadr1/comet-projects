{
 "cells": [
  {
   "cell_type": "code",
   "execution_count": 1,
   "metadata": {},
   "outputs": [
    {
     "name": "stderr",
     "output_type": "stream",
     "text": [
      "Using TensorFlow backend.\n"
     ]
    }
   ],
   "source": [
    "%matplotlib inline\n",
    "\n",
    "\n",
    "# Comet\n",
    "import comet_ml\n",
    "from comet_ml import Experiment \n",
    "\n",
    "# Standard packages\n",
    "import os\n",
    "import pickle\n",
    "import sqlite3\n",
    "import numpy as np\n",
    "import pandas as pd\n",
    "import matplotlib.pyplot as plt\n",
    "\n",
    "# nltk for preprocessing of text data\n",
    "import nltk\n",
    "from nltk.tokenize import sent_tokenize, word_tokenize\n",
    "from nltk.corpus import stopwords\n",
    "from nltk.stem.snowball import SnowballStemmer\n",
    "\n",
    "# sklearn for preprocessing and machine learning models\n",
    "from sklearn.model_selection import train_test_split\n",
    "from sklearn.naive_bayes import MultinomialNB\n",
    "from sklearn.ensemble import GradientBoostingClassifier\n",
    "from sklearn.metrics  import accuracy_score\n",
    "from sklearn.utils import shuffle\n",
    "from sklearn.preprocessing import OneHotEncoder\n",
    "from sklearn.feature_extraction.text import TfidfVectorizer\n",
    "\n",
    "# XGBoost for Machine Learning (Gradient Boosting Machine (GBM))\n",
    "import xgboost as xgb\n",
    "\n",
    "# Keras for neural networks\n",
    "import keras\n",
    "from keras.models import Sequential\n",
    "from keras.layers import Dense, Dropout, BatchNormalization\n",
    "from keras.layers import Flatten\n",
    "from keras.layers.embeddings import Embedding\n",
    "from keras.preprocessing import sequence\n",
    "from keras.utils import to_categorical\n",
    "from keras.callbacks import EarlyStopping\n",
    "\n",
    "# Random seeds for consistent results\n",
    "from tensorflow import set_random_seed\n",
    "seed = 1234\n",
    "np.random.seed(seed)\n",
    "set_random_seed(seed)"
   ]
  },
  {
   "cell_type": "code",
   "execution_count": 2,
   "metadata": {},
   "outputs": [],
   "source": [
    "DATA = '/Users/nikolaskaris/Desktop/twitter-airline-sentiment/'"
   ]
  },
  {
   "cell_type": "code",
   "execution_count": 3,
   "metadata": {},
   "outputs": [
    {
     "name": "stdout",
     "output_type": "stream",
     "text": [
      "\n",
      "# Files and file sizes\n",
      "database.sqlite                | 5.04 MB\n",
      "Tweets.csv                     | 3.42 MB\n"
     ]
    }
   ],
   "source": [
    "print('\\n# Files and file sizes')\n",
    "for file in os.listdir(DATA):\n",
    "    print('{} | {} MB'.format(file.ljust(30), str(round(os.path.getsize(DATA + file) / 1000000, 2))))"
   ]
  },
  {
   "cell_type": "code",
   "execution_count": 4,
   "metadata": {},
   "outputs": [
    {
     "name": "stdout",
     "output_type": "stream",
     "text": [
      "Raw Dataframe:\n"
     ]
    },
    {
     "data": {
      "text/html": [
       "<div>\n",
       "<style scoped>\n",
       "    .dataframe tbody tr th:only-of-type {\n",
       "        vertical-align: middle;\n",
       "    }\n",
       "\n",
       "    .dataframe tbody tr th {\n",
       "        vertical-align: top;\n",
       "    }\n",
       "\n",
       "    .dataframe thead th {\n",
       "        text-align: right;\n",
       "    }\n",
       "</style>\n",
       "<table border=\"1\" class=\"dataframe\">\n",
       "  <thead>\n",
       "    <tr style=\"text-align: right;\">\n",
       "      <th></th>\n",
       "      <th>tweet_id</th>\n",
       "      <th>airline_sentiment</th>\n",
       "      <th>airline_sentiment_confidence</th>\n",
       "      <th>negativereason</th>\n",
       "      <th>negativereason_confidence</th>\n",
       "      <th>airline</th>\n",
       "      <th>airline_sentiment_gold</th>\n",
       "      <th>name</th>\n",
       "      <th>negativereason_gold</th>\n",
       "      <th>retweet_count</th>\n",
       "      <th>text</th>\n",
       "      <th>tweet_coord</th>\n",
       "      <th>tweet_created</th>\n",
       "      <th>tweet_location</th>\n",
       "      <th>user_timezone</th>\n",
       "    </tr>\n",
       "  </thead>\n",
       "  <tbody>\n",
       "    <tr>\n",
       "      <th>0</th>\n",
       "      <td>570306133677760513</td>\n",
       "      <td>neutral</td>\n",
       "      <td>1.0</td>\n",
       "      <td>NaN</td>\n",
       "      <td>NaN</td>\n",
       "      <td>Virgin America</td>\n",
       "      <td>NaN</td>\n",
       "      <td>cairdin</td>\n",
       "      <td>NaN</td>\n",
       "      <td>0</td>\n",
       "      <td>@VirginAmerica What @dhepburn said.</td>\n",
       "      <td>NaN</td>\n",
       "      <td>2015-02-24 11:35:52 -0800</td>\n",
       "      <td>NaN</td>\n",
       "      <td>Eastern Time (US &amp; Canada)</td>\n",
       "    </tr>\n",
       "  </tbody>\n",
       "</table>\n",
       "</div>"
      ],
      "text/plain": [
       "             tweet_id airline_sentiment  airline_sentiment_confidence  \\\n",
       "0  570306133677760513           neutral                           1.0   \n",
       "\n",
       "  negativereason  negativereason_confidence         airline  \\\n",
       "0            NaN                        NaN  Virgin America   \n",
       "\n",
       "  airline_sentiment_gold     name negativereason_gold  retweet_count  \\\n",
       "0                    NaN  cairdin                 NaN              0   \n",
       "\n",
       "                                  text tweet_coord              tweet_created  \\\n",
       "0  @VirginAmerica What @dhepburn said.         NaN  2015-02-24 11:35:52 -0800   \n",
       "\n",
       "  tweet_location               user_timezone  \n",
       "0            NaN  Eastern Time (US & Canada)  "
      ]
     },
     "execution_count": 4,
     "metadata": {},
     "output_type": "execute_result"
    }
   ],
   "source": [
    "raw_df = pd.read_csv(f'{DATA}Tweets.csv')\n",
    "print('Raw Dataframe:')\n",
    "raw_df.head(1)"
   ]
  },
  {
   "cell_type": "code",
   "execution_count": 5,
   "metadata": {},
   "outputs": [
    {
     "name": "stdout",
     "output_type": "stream",
     "text": [
      "Feature selected DataFrame:\n"
     ]
    },
    {
     "data": {
      "text/html": [
       "<div>\n",
       "<style scoped>\n",
       "    .dataframe tbody tr th:only-of-type {\n",
       "        vertical-align: middle;\n",
       "    }\n",
       "\n",
       "    .dataframe tbody tr th {\n",
       "        vertical-align: top;\n",
       "    }\n",
       "\n",
       "    .dataframe thead th {\n",
       "        text-align: right;\n",
       "    }\n",
       "</style>\n",
       "<table border=\"1\" class=\"dataframe\">\n",
       "  <thead>\n",
       "    <tr style=\"text-align: right;\">\n",
       "      <th></th>\n",
       "      <th>tweet_id</th>\n",
       "      <th>text</th>\n",
       "      <th>airline_sentiment</th>\n",
       "    </tr>\n",
       "  </thead>\n",
       "  <tbody>\n",
       "    <tr>\n",
       "      <th>0</th>\n",
       "      <td>570306133677760513</td>\n",
       "      <td>@VirginAmerica What @dhepburn said.</td>\n",
       "      <td>neutral</td>\n",
       "    </tr>\n",
       "    <tr>\n",
       "      <th>1</th>\n",
       "      <td>570301130888122368</td>\n",
       "      <td>@VirginAmerica plus you've added commercials t...</td>\n",
       "      <td>positive</td>\n",
       "    </tr>\n",
       "  </tbody>\n",
       "</table>\n",
       "</div>"
      ],
      "text/plain": [
       "             tweet_id                                               text  \\\n",
       "0  570306133677760513                @VirginAmerica What @dhepburn said.   \n",
       "1  570301130888122368  @VirginAmerica plus you've added commercials t...   \n",
       "\n",
       "  airline_sentiment  \n",
       "0           neutral  \n",
       "1          positive  "
      ]
     },
     "execution_count": 5,
     "metadata": {},
     "output_type": "execute_result"
    }
   ],
   "source": [
    "# Select features\n",
    "df = raw_df[['tweet_id', 'text', 'airline_sentiment']]\n",
    "print('Feature selected DataFrame:')\n",
    "df.head(2)"
   ]
  },
  {
   "cell_type": "code",
   "execution_count": 6,
   "metadata": {},
   "outputs": [
    {
     "data": {
      "image/png": "[encoded data removed]",
      "text/plain": [
       "<Figure size 1080x720 with 1 Axes>"
      ]
     },
     "metadata": {
      "needs_background": "light"
     },
     "output_type": "display_data"
    }
   ],
   "source": [
    "# Plot sentiment distribution\n",
    "df['airline_sentiment'].value_counts().plot(kind = 'barh',\n",
    "                                            figsize = (15,10));\n",
    "plt.title('Distribution of airline sentiment in Kaggle dataset', \n",
    "          fontsize = 26, weight = 'bold')\n",
    "plt.xlabel('Frequency', fontsize = 22)\n",
    "plt.xticks(fontsize = 20)\n",
    "plt.yticks(fontsize = 20);"
   ]
  },
  {
   "cell_type": "code",
   "execution_count": 7,
   "metadata": {},
   "outputs": [],
   "source": [
    "class PreProcessor:\n",
    "    '''\n",
    "    Easily performs all the standard preprocessing steps\n",
    "    like removing stopwords, stemming, etc.\n",
    "    Only input that you need to provide is the dataframe and column name for the tweets\n",
    "    '''\n",
    "    def __init__(self, df, column_name):\n",
    "        self.data = df\n",
    "        self.conversations = list(self.data[column_name])\n",
    "        self.stopwords = set(stopwords.words('english'))\n",
    "        self.stemmer = SnowballStemmer(\"english\")\n",
    "        self.preprocessed = []\n",
    "        \n",
    "    def tokenize(self, sentence):\n",
    "        '''\n",
    "        Splits up words and makes a list of all words in the tweet\n",
    "        '''\n",
    "        tokenized_sentence = word_tokenize(sentence)\n",
    "        return tokenized_sentence\n",
    "            \n",
    "    def remove_stopwords(self, sentence):\n",
    "        '''Removes stopwords like 'a', 'the', 'and', etc.'''\n",
    "        filtered_sentence = []\n",
    "        for w in sentence:\n",
    "            if w not in self.stopwords and len(w) > 1 and w[:2] != '//' and w != 'https': \n",
    "                filtered_sentence.append(w)\n",
    "        return filtered_sentence\n",
    "    \n",
    "    def stem(self, sentence):\n",
    "        '''\n",
    "        Stems certain words to their root form.\n",
    "        For example, words like 'computer', 'computation'\n",
    "        all get truncated to 'comput'\n",
    "        '''\n",
    "        return [self.stemmer.stem(word) for word in sentence]\n",
    "    \n",
    "    def join_to_string(self, sentence):\n",
    "        '''\n",
    "        Joins the tokenized words to one string.\n",
    "        '''\n",
    "        return ' '.join(sentence)\n",
    "    \n",
    "    def full_preprocess(self, n_rows=None):\n",
    "        '''\n",
    "        Preprocess a selected number of rows and\n",
    "        connects them back to strings\n",
    "        '''\n",
    "        # If nothing is given do it for the whole dataset\n",
    "        if n_rows == None:\n",
    "            n_rows = len(self.data)\n",
    "            \n",
    "        # Perform preprocessing\n",
    "        for i in range(n_rows):\n",
    "            tweet = self.conversations[i]\n",
    "            tokenized = self.tokenize(tweet)\n",
    "            cleaned = self.remove_stopwords(tokenized)\n",
    "            stemmed = self.stem(cleaned)\n",
    "            joined = self.join_to_string(stemmed)\n",
    "            self.preprocessed.append(joined)\n",
    "        return self.preprocessed"
   ]
  },
  {
   "cell_type": "code",
   "execution_count": 8,
   "metadata": {
    "scrolled": true
   },
   "outputs": [
    {
     "name": "stderr",
     "output_type": "stream",
     "text": [
      "/Users/nikolaskaris/anaconda3/lib/python3.7/site-packages/ipykernel_launcher.py:3: SettingWithCopyWarning: \n",
      "A value is trying to be set on a copy of a slice from a DataFrame.\n",
      "Try using .loc[row_indexer,col_indexer] = value instead\n",
      "\n",
      "See the caveats in the documentation: http://pandas.pydata.org/pandas-docs/stable/indexing.html#indexing-view-versus-copy\n",
      "  This is separate from the ipykernel package so we can avoid doing imports until\n"
     ]
    }
   ],
   "source": [
    "# Preprocess text and put it in a new column\n",
    "preprocessor = PreProcessor(df, 'text')\n",
    "df['cleaned_text'] = preprocessor.full_preprocess()"
   ]
  },
  {
   "cell_type": "code",
   "execution_count": 9,
   "metadata": {},
   "outputs": [],
   "source": [
    "# Shuffling so we can get random tweets for the test set\n",
    "df = shuffle(df, random_state=seed)\n",
    "# Keep 1000 samples of the data as test set\n",
    "test_set = df[:1000]"
   ]
  },
  {
   "cell_type": "code",
   "execution_count": 10,
   "metadata": {},
   "outputs": [],
   "source": [
    "# Get training and validation data\n",
    "X_train, X_val, y_train, y_val = train_test_split(df['cleaned_text'][1000:], \n",
    "                                                  df['airline_sentiment'][1000:], \n",
    "                                                  test_size=0.2, \n",
    "                                                  random_state=seed)\n",
    "\n",
    "# Get sentiment labels for test set\n",
    "y_test = test_set['airline_sentiment']\n"
   ]
  },
  {
   "cell_type": "code",
   "execution_count": 11,
   "metadata": {},
   "outputs": [],
   "source": [
    "# Create matrix based on word frequency in tweets\n",
    "vectorizer = TfidfVectorizer()\n",
    "X_train = vectorizer.fit_transform(X_train)\n",
    "X_val = vectorizer.transform(X_val)\n",
    "X_test = vectorizer.transform(test_set['cleaned_text'])\n"
   ]
  },
  {
   "cell_type": "code",
   "execution_count": 12,
   "metadata": {},
   "outputs": [
    {
     "name": "stdout",
     "output_type": "stream",
     "text": [
      "Training size: 10912 tweets\n",
      "Validation size: 2728 tweets\n",
      "Test size: 1000 tweets\n",
      "Amount of words (columns): 9672 words\n"
     ]
    }
   ],
   "source": [
    "# Print the size of our data\n",
    "print(f'Training size: {X_train.shape[0]} tweets\\n\\\n",
    "Validation size: {X_val.shape[0]} tweets\\n\\\n",
    "Test size: {X_test.shape[0]} tweets\\n\\\n",
    "Amount of words (columns): {X_train.shape[1]} words')\n"
   ]
  },
  {
   "cell_type": "markdown",
   "metadata": {},
   "source": [
    "## Initialize Comet Experiment"
   ]
  },
  {
   "cell_type": "code",
   "execution_count": 13,
   "metadata": {},
   "outputs": [
    {
     "name": "stderr",
     "output_type": "stream",
     "text": [
      "COMET INFO: Experiment is live on comet.ml https://www.comet.ml/demos/singapore-airlines/b519e9e56116462d9c1c5927ffba4686\n",
      "\n"
     ]
    }
   ],
   "source": [
    "experiment = Experiment(api_key=\"kZ9EvZnOe5Kdw40yNNY4UXNu3\",\n",
    "                        project_name=\"singapore airlines\", workspace=\"demos\")"
   ]
  },
  {
   "cell_type": "markdown",
   "metadata": {},
   "source": [
    "## LGBM"
   ]
  },
  {
   "cell_type": "code",
   "execution_count": 22,
   "metadata": {},
   "outputs": [
    {
     "data": {
      "text/plain": [
       "GradientBoostingClassifier(criterion='friedman_mse', init=None,\n",
       "                           learning_rate=0.1, loss='deviance', max_depth=6,\n",
       "                           max_features=None, max_leaf_nodes=None,\n",
       "                           min_impurity_decrease=0.0, min_impurity_split=None,\n",
       "                           min_samples_leaf=1, min_samples_split=2,\n",
       "                           min_weight_fraction_leaf=0.0, n_estimators=200,\n",
       "                           n_iter_no_change=None, presort='auto',\n",
       "                           random_state=1234, subsample=1.0, tol=0.0001,\n",
       "                           validation_fraction=0.1, verbose=0,\n",
       "                           warm_start=False)"
      ]
     },
     "execution_count": 22,
     "metadata": {},
     "output_type": "execute_result"
    }
   ],
   "source": [
    "# # sklearn's Gradient Boosting Classifier (GBM)\n",
    "# gbm = GradientBoostingClassifier(n_estimators=200, \n",
    "#                                  max_depth=6, \n",
    "#                                  random_state=seed)\n",
    "# gbm.fit(X_train, y_train)\n",
    "# # Check results\n",
    "# train_pred = gbm.predict(X_train)\n",
    "# val_pred = gbm.predict(X_val)\n",
    "# print(f'Accuracy on training set (GBM): {round(accuracy_score(y_train, train_pred)*100, 4)}%')\n",
    "# print(f'Accuracy on validation set (GBM): {round(accuracy_score(y_val,val_pred)*100, 4)}%')"
   ]
  },
  {
   "cell_type": "markdown",
   "metadata": {},
   "source": [
    "## XGBOOST"
   ]
  },
  {
   "cell_type": "code",
   "execution_count": 28,
   "metadata": {},
   "outputs": [],
   "source": [
    "# # Hyperparameters that you can tweak\n",
    "# # There are a lot more tweakable hyperparameters that you can find at \n",
    "# # https://xgboost.readthedocs.io/en/latest/parameter.html\n",
    "# xgb_params = {'objective' : 'multi:softmax',\n",
    "#               'eval_metric' : 'mlogloss',\n",
    "#               'eta' : 0.1,\n",
    "#               'max_depth' : 6,\n",
    "#               'num_class' : 3,\n",
    "#               'lambda' : 0.8,\n",
    "#               'estimators' : 200,\n",
    "#               'seed' : seed\n",
    "              \n",
    "# }\n",
    "\n",
    "# # Transform categories into numbers\n",
    "# # negative = 0, neutral = 1 and positive = 2\n",
    "# target_train = y_train.astype('category').cat.codes\n",
    "# target_val = y_val.astype('category').cat.codes\n",
    "\n",
    "# # Transform data into a matrix so that we can use XGBoost\n",
    "# d_train = xgb.DMatrix(X_train, label = target_train)\n",
    "# d_val = xgb.DMatrix(X_val, label = target_val)\n",
    "\n",
    "# # Fit XGBoost\n",
    "# watchlist = [(d_train, 'train'), (d_val, 'validation')]\n",
    "# bst = xgb.train(xgb_params, \n",
    "#                 d_train, \n",
    "#                 400,  \n",
    "#                 watchlist,\n",
    "#                 early_stopping_rounds = 50, \n",
    "#                 verbose_eval = 0)\n",
    "\n",
    "# # Check results for XGBoost\n",
    "# train_pred = bst.predict(d_train)\n",
    "# val_pred = bst.predict(d_val)\n",
    "# print(f'Accuracy on training set (XGBoost): {round(accuracy_score(target_train, train_pred)*100, 4)}%')\n",
    "# print(f'Accuracy on validation set (XGBoost): {round(accuracy_score(target_val, val_pred)*100, 4)}%')"
   ]
  },
  {
   "cell_type": "markdown",
   "metadata": {},
   "source": [
    "## Neural Net"
   ]
  },
  {
   "cell_type": "code",
   "execution_count": 14,
   "metadata": {},
   "outputs": [],
   "source": [
    "# Generator so we can easily feed batches of data to the neural network\n",
    "def batch_generator(X, y, batch_size, shuffle):\n",
    "    number_of_batches = X.shape[0]/batch_size\n",
    "    counter = 0\n",
    "    sample_index = np.arange(X.shape[0])\n",
    "    if shuffle:\n",
    "        np.random.shuffle(sample_index)\n",
    "    while True:\n",
    "        batch_index = sample_index[batch_size*counter:batch_size*(counter+1)]\n",
    "        X_batch = X[batch_index,:].toarray()\n",
    "        y_batch = y[batch_index]\n",
    "        counter += 1\n",
    "        yield X_batch, y_batch\n",
    "        if (counter == number_of_batches):\n",
    "            if shuffle:\n",
    "                np.random.shuffle(sample_index)\n",
    "            counter = 0"
   ]
  },
  {
   "cell_type": "code",
   "execution_count": 15,
   "metadata": {},
   "outputs": [],
   "source": [
    "# Onehot encoding of target variable\n",
    "# Negative = [1,0,0], Neutral = [0,1,0], Positive = [0,0,1]\n",
    "\n",
    "# Initialize sklearn's one-hot encoder class\n",
    "onehot_encoder = OneHotEncoder(sparse=False)\n",
    "\n",
    "# One hot encoding for training set\n",
    "integer_encoded_train = np.array(y_train).reshape(len(y_train), 1)\n",
    "onehot_encoded_train = onehot_encoder.fit_transform(integer_encoded_train)\n",
    "\n",
    "# One hot encoding for validation set\n",
    "integer_encoded_val = np.array(y_val).reshape(len(y_val), 1)\n",
    "onehot_encoded_val = onehot_encoder.fit_transform(integer_encoded_val)"
   ]
  },
  {
   "cell_type": "code",
   "execution_count": 16,
   "metadata": {},
   "outputs": [
    {
     "name": "stderr",
     "output_type": "stream",
     "text": [
      "WARNING: Logging before flag parsing goes to stderr.\n",
      "W0730 22:01:34.594183 4594013632 deprecation_wrapper.py:119] From /Users/nikolaskaris/anaconda3/lib/python3.7/site-packages/keras/backend/tensorflow_backend.py:74: The name tf.get_default_graph is deprecated. Please use tf.compat.v1.get_default_graph instead.\n",
      "\n",
      "W0730 22:01:34.612426 4594013632 deprecation_wrapper.py:119] From /Users/nikolaskaris/anaconda3/lib/python3.7/site-packages/keras/backend/tensorflow_backend.py:517: The name tf.placeholder is deprecated. Please use tf.compat.v1.placeholder instead.\n",
      "\n",
      "W0730 22:01:34.618006 4594013632 deprecation_wrapper.py:119] From /Users/nikolaskaris/anaconda3/lib/python3.7/site-packages/keras/backend/tensorflow_backend.py:4185: The name tf.truncated_normal is deprecated. Please use tf.random.truncated_normal instead.\n",
      "\n",
      "W0730 22:01:34.660066 4594013632 deprecation_wrapper.py:119] From /Users/nikolaskaris/anaconda3/lib/python3.7/site-packages/keras/backend/tensorflow_backend.py:133: The name tf.placeholder_with_default is deprecated. Please use tf.compat.v1.placeholder_with_default instead.\n",
      "\n",
      "W0730 22:01:34.693058 4594013632 deprecation.py:506] From /Users/nikolaskaris/anaconda3/lib/python3.7/site-packages/keras/backend/tensorflow_backend.py:3445: calling dropout (from tensorflow.python.ops.nn_ops) with keep_prob is deprecated and will be removed in a future version.\n",
      "Instructions for updating:\n",
      "Please use `rate` instead of `keep_prob`. Rate should be set to `rate = 1 - keep_prob`.\n",
      "W0730 22:01:34.816717 4594013632 deprecation_wrapper.py:119] From /Users/nikolaskaris/anaconda3/lib/python3.7/site-packages/keras/optimizers.py:790: The name tf.train.Optimizer is deprecated. Please use tf.compat.v1.train.Optimizer instead.\n",
      "\n",
      "W0730 22:01:34.823415 4594013632 deprecation_wrapper.py:119] From /Users/nikolaskaris/anaconda3/lib/python3.7/site-packages/keras/backend/tensorflow_backend.py:3376: The name tf.log is deprecated. Please use tf.math.log instead.\n",
      "\n",
      "W0730 22:01:34.835839 4594013632 deprecation.py:323] From /Users/nikolaskaris/anaconda3/lib/python3.7/site-packages/tensorflow/python/ops/nn_impl.py:180: add_dispatch_support.<locals>.wrapper (from tensorflow.python.ops.array_ops) is deprecated and will be removed in a future version.\n",
      "Instructions for updating:\n",
      "Use tf.where in 2.0, which has the same broadcast rule as np.where\n"
     ]
    },
    {
     "name": "stdout",
     "output_type": "stream",
     "text": [
      "Epoch 1/20\n",
      "341/341 [==============================] - 3s 10ms/step - loss: 0.5784 - acc: 0.6980 - val_loss: 0.5197 - val_acc: 0.8069\n",
      "Epoch 2/20\n",
      "341/341 [==============================] - 4s 13ms/step - loss: 0.5007 - acc: 0.7785 - val_loss: 0.4724 - val_acc: 0.7826\n",
      "Epoch 3/20\n",
      "341/341 [==============================] - 3s 9ms/step - loss: 0.4636 - acc: 0.7897 - val_loss: 0.4431 - val_acc: 0.7996\n",
      "Epoch 4/20\n",
      "341/341 [==============================] - 4s 12ms/step - loss: 0.4307 - acc: 0.8090 - val_loss: 0.4175 - val_acc: 0.8115\n",
      "Epoch 5/20\n",
      "341/341 [==============================] - 5s 14ms/step - loss: 0.4003 - acc: 0.8229 - val_loss: 0.3962 - val_acc: 0.8239\n",
      "Epoch 6/20\n",
      "341/341 [==============================] - 7s 20ms/step - loss: 0.3748 - acc: 0.8346 - val_loss: 0.3787 - val_acc: 0.8319\n",
      "Epoch 7/20\n",
      "341/341 [==============================] - 8s 23ms/step - loss: 0.3528 - acc: 0.8475 - val_loss: 0.3647 - val_acc: 0.8385\n",
      "Epoch 8/20\n",
      "341/341 [==============================] - 4s 13ms/step - loss: 0.3335 - acc: 0.8583 - val_loss: 0.3533 - val_acc: 0.8453\n",
      "Epoch 9/20\n",
      "341/341 [==============================] - 3s 9ms/step - loss: 0.3158 - acc: 0.8689 - val_loss: 0.3441 - val_acc: 0.8504\n",
      "Epoch 10/20\n",
      "341/341 [==============================] - 4s 10ms/step - loss: 0.2989 - acc: 0.8796 - val_loss: 0.3368 - val_acc: 0.8543\n",
      "Epoch 11/20\n",
      "341/341 [==============================] - 3s 10ms/step - loss: 0.2873 - acc: 0.8863 - val_loss: 0.3307 - val_acc: 0.8579\n",
      "Epoch 12/20\n",
      "341/341 [==============================] - 4s 11ms/step - loss: 0.2733 - acc: 0.8960 - val_loss: 0.3260 - val_acc: 0.8581\n",
      "Epoch 13/20\n",
      "341/341 [==============================] - 3s 9ms/step - loss: 0.2643 - acc: 0.9012 - val_loss: 0.3222 - val_acc: 0.8618\n",
      "Epoch 14/20\n",
      "341/341 [==============================] - 4s 11ms/step - loss: 0.2519 - acc: 0.9075 - val_loss: 0.3196 - val_acc: 0.8624\n",
      "Epoch 15/20\n",
      "341/341 [==============================] - 4s 11ms/step - loss: 0.2442 - acc: 0.9106 - val_loss: 0.3173 - val_acc: 0.8639\n",
      "Epoch 16/20\n",
      "341/341 [==============================] - 4s 11ms/step - loss: 0.2345 - acc: 0.9164 - val_loss: 0.3165 - val_acc: 0.8633\n",
      "Epoch 17/20\n",
      "341/341 [==============================] - 3s 9ms/step - loss: 0.2249 - acc: 0.9216 - val_loss: 0.3153 - val_acc: 0.8628\n",
      "Epoch 18/20\n",
      "341/341 [==============================] - 4s 11ms/step - loss: 0.2197 - acc: 0.9229 - val_loss: 0.3154 - val_acc: 0.8634\n",
      "Epoch 19/20\n",
      "341/341 [==============================] - 3s 10ms/step - loss: 0.2108 - acc: 0.9274 - val_loss: 0.3154 - val_acc: 0.8650\n",
      "Epoch 20/20\n",
      "341/341 [==============================] - 4s 11ms/step - loss: 0.2071 - acc: 0.9282 - val_loss: 0.3169 - val_acc: 0.8646\n"
     ]
    }
   ],
   "source": [
    "# Neural network architecture\n",
    "initializer = keras.initializers.he_normal(seed=seed)\n",
    "activation = keras.activations.elu\n",
    "optimizer = keras.optimizers.Adam(lr=0.0002, beta_1=0.9, beta_2=0.999, epsilon=1e-8)\n",
    "es = EarlyStopping(monitor='val_acc', mode='max', verbose=1, patience=4)\n",
    "\n",
    "# Build model architecture\n",
    "model = Sequential()\n",
    "model.add(Dense(20, activation=activation, kernel_initializer=initializer, input_dim=X_train.shape[1]))\n",
    "model.add(Dropout(0.5))\n",
    "model.add(Dense(3, activation='softmax', kernel_initializer=initializer))\n",
    "model.compile(optimizer=optimizer,\n",
    "              loss='binary_crossentropy',\n",
    "              metrics=['accuracy'])\n",
    "\n",
    "# Hyperparameters\n",
    "epochs = 20\n",
    "batch_size = 32\n",
    "\n",
    "# Fit the model using the batch_generator\n",
    "hist = model.fit_generator(generator=batch_generator(X_train, onehot_encoded_train, batch_size=batch_size, shuffle=True),\n",
    "                           epochs=epochs, validation_data=(X_val, onehot_encoded_val),\n",
    "                           steps_per_epoch=X_train.shape[0]/batch_size, callbacks=[es])"
   ]
  },
  {
   "cell_type": "code",
   "execution_count": 17,
   "metadata": {},
   "outputs": [
    {
     "name": "stderr",
     "output_type": "stream",
     "text": [
      "COMET INFO: ----------------------------\n",
      "COMET INFO: Comet.ml Experiment Summary:\n",
      "COMET INFO:   Data:\n",
      "COMET INFO:     url: https://www.comet.ml/demos/singapore-airlines/b519e9e56116462d9c1c5927ffba4686\n",
      "COMET INFO:   Metrics [count] (min, max):\n",
      "COMET INFO:     acc [39]           : (0.697977785840412, 0.928152504554592)\n",
      "COMET INFO:     batch_acc [1399]   : (0.65625, 0.9895833730697632)\n",
      "COMET INFO:     batch_loss [1399]  : (0.10071663558483124, 0.6387514472007751)\n",
      "COMET INFO:     epoch_duration [39]: (2.9202728159999936, 7.962073739999994)\n",
      "COMET INFO:     loss [39]          : (0.2070881759971817, 0.5784315054367715)\n",
      "COMET INFO:     step               : 6820\n",
      "COMET INFO:     val_acc [39]       : (0.7826246488129288, 0.8649804562417642)\n",
      "COMET INFO:     val_loss [39]      : (0.3152835238014848, 0.5197180348757076)\n",
      "COMET INFO:   Other [count]:\n",
      "COMET INFO:     trainable_params: 193523\n",
      "COMET INFO: ----------------------------\n",
      "COMET INFO: Uploading stats to Comet before program termination (may take several seconds)\n"
     ]
    }
   ],
   "source": [
    "experiment.end()"
   ]
  },
  {
   "cell_type": "code",
   "execution_count": null,
   "metadata": {},
   "outputs": [],
   "source": []
  }
 ],
 "metadata": {
  "kernelspec": {
   "display_name": "Python 3",
   "language": "python",
   "name": "python3"
  },
  "language_info": {
   "codemirror_mode": {
    "name": "ipython",
    "version": 3
   },
   "file_extension": ".py",
   "mimetype": "text/x-python",
   "name": "python",
   "nbconvert_exporter": "python",
   "pygments_lexer": "ipython3",
   "version": "3.7.3"
  }
 },
 "nbformat": 4,
 "nbformat_minor": 2
}
